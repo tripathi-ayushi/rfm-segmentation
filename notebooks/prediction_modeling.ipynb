{
 "cells": [
  {
   "cell_type": "markdown",
   "id": "fde0be6f",
   "metadata": {},
   "source": [
    "## Phase 3: Predictive Modeling — Churn Risk Classification\n",
    "\n",
    "### Objective:\n",
    "Use historical RFM data to predict whether a customer is **At-Risk** (i.e., likely to churn).\n",
    "\n",
    "### Why It Matters:\n",
    "This enables proactive retention strategies, re-engagement campaigns, and more efficient marketing spend.\n",
    "\n",
    "### Input Data:\n",
    "The final `rfm` table containing:\n",
    "- `Recency`, `Frequency`, `Monetary`\n",
    "- `Segment` (with \"At-Risk\" as our target)\n",
    "\n",
    "### What I’ll Do in This Notebook:\n",
    "1. Create a binary target: `is_at_risk`\n",
    "2. Split data into train and test sets\n",
    "3. Train a baseline classifier (Random Forest)\n",
    "4. Evaluate with metrics: accuracy, precision, recall, F1, ROC-AUC\n",
    "5. Visualize feature importances"
   ]
  },
  {
   "cell_type": "markdown",
   "id": "05b97012",
   "metadata": {},
   "source": [
    "---"
   ]
  },
  {
   "cell_type": "code",
   "execution_count": 216,
   "id": "16d56f29",
   "metadata": {},
   "outputs": [],
   "source": [
    "import matplotlib.pyplot as plt\n",
    "import seaborn as sns\n",
    "import pandas as pd"
   ]
  },
  {
   "cell_type": "markdown",
   "id": "0a2b0fa1",
   "metadata": {},
   "source": [
    "### 1a. Load Final RFM Dataset and Define Target\n",
    "\n",
    "**What this does**\n",
    "- Loads the processed RFM table with clusters and segments.\n",
    "- Creates a binary classification target `is_at_risk`:\n",
    "  - 1 → if the customer belongs to the **At-Risk** segment\n",
    "  - 0 → otherwise\n",
    "\n",
    "**Why this matters**\n",
    "- This sets up the churn prediction problem where I'll train a model to flag customers likely to churn, enabling proactive retention strategies.\n"
   ]
  },
  {
   "cell_type": "code",
   "execution_count": 217,
   "id": "2d114cc1",
   "metadata": {},
   "outputs": [
    {
     "data": {
      "text/plain": [
       "is_at_risk\n",
       "0    7268\n",
       "1    6253\n",
       "Name: count, dtype: int64"
      ]
     },
     "execution_count": 217,
     "metadata": {},
     "output_type": "execute_result"
    }
   ],
   "source": [
    "# Load the final RFM dataset with segment labels\n",
    "rfm = pd.read_csv('../data/processed/rfm_table.csv')\n",
    "\n",
    "# Define binary target for churn: 1 = At-Risk, 0 = all other segments\n",
    "rfm['is_at_risk'] = (rfm['Segment'] == 'At-Risk').astype(int)\n",
    "\n",
    "# Check class distribution\n",
    "rfm['is_at_risk'].value_counts()"
   ]
  },
  {
   "cell_type": "markdown",
   "id": "74dcfa8c",
   "metadata": {},
   "source": [
    "**Target Distribution — `is_at_risk`**\n",
    "\n",
    "After creating the binary target column:\n",
    "\n",
    "| is_at_risk | Description               | Count |\n",
    "|------------|---------------------------|--------|\n",
    "| 0          | Not At-Risk (Active, Loyal, VIP) | 7,268 |\n",
    "| 1          | At-Risk (Likely to Churn)       | 6,253 |\n",
    "\n",
    "**Key Insights:**\n",
    "- The dataset is **fairly balanced**, with ~54% not at risk and ~46% at risk.\n",
    "- This balance allows us to train models **without requiring heavy class weighting or oversampling**.\n",
    "- Enables reliable use of metrics like **accuracy, precision, recall, and AUC** without misleading results due to imbalance."
   ]
  },
  {
   "cell_type": "markdown",
   "id": "f063aee3",
   "metadata": {},
   "source": [
    "---"
   ]
  },
  {
   "cell_type": "markdown",
   "id": "6ec86b90",
   "metadata": {},
   "source": [
    "### 1b. Train/Test Split for Model Training\n",
    "\n",
    "**What this does:**\n",
    "- Splits the dataset into features (`X`) and target (`y`)\n",
    "- Uses `train_test_split` to create training and test datasets\n",
    "\n",
    "**Why this matters:**\n",
    "- Ensures that I evaluate model performance on **unseen data**\n",
    "- Prevents data leakage during training"
   ]
  },
  {
   "cell_type": "code",
   "execution_count": 218,
   "id": "24fa8874",
   "metadata": {},
   "outputs": [
    {
     "name": "stdout",
     "output_type": "stream",
     "text": [
      "Train size: 10816\n",
      "Test size: 2705\n"
     ]
    }
   ],
   "source": [
    "from sklearn.model_selection import train_test_split\n",
    "\n",
    "# Define features and target\n",
    "X = rfm[['Recency', 'Frequency', 'Monetary']]\n",
    "y = rfm['is_at_risk']\n",
    "\n",
    "# Split into training and testing sets (80/20)\n",
    "X_train, X_test, y_train, y_test = train_test_split(\n",
    "    X, y, test_size=0.2, random_state=42, stratify=y\n",
    ")\n",
    "\n",
    "# Check split sizes\n",
    "print(\"Train size:\", X_train.shape[0])\n",
    "print(\"Test size:\", X_test.shape[0])"
   ]
  },
  {
   "cell_type": "markdown",
   "id": "1dbe9bce",
   "metadata": {},
   "source": [
    "**Train/Test Split Results**\n",
    "\n",
    "| Dataset     | Size   | Percentage |\n",
    "|-------------|--------|------------|\n",
    "| Train Set   | 10,816 | 80%        |\n",
    "| Test Set    | 2,705  | 20%        |\n",
    "\n",
    "**Key Insights:**\n",
    "- The data was split using **stratified sampling**, preserving the balance of the `is_at_risk` target in both sets.\n",
    "- This ensures fair evaluation of model performance — especially important in churn classification.\n",
    "- With 10K+ training samples, I have a strong base for modeling without overfitting."
   ]
  },
  {
   "cell_type": "markdown",
   "id": "d4450ffd",
   "metadata": {},
   "source": [
    "---"
   ]
  },
  {
   "cell_type": "markdown",
   "id": "e9491f9c",
   "metadata": {},
   "source": [
    "#### 1c. Train a Baseline Random Forest Classifier\n",
    "\n",
    "**What this does:**\n",
    "- Trains a `RandomForestClassifier` on the RFM features to predict `is_at_risk`\n",
    "- Makes predictions on the test set\n",
    "- Evaluates model using accuracy, precision, recall, F1-score\n",
    "\n",
    "**Why this matters:**\n",
    "- Random Forest is a strong, interpretable baseline\n",
    "- Helps us understand how well the current features (R, F, M) alone can predict churn risk"
   ]
  },
  {
   "cell_type": "code",
   "execution_count": 219,
   "id": "5d01ca08",
   "metadata": {},
   "outputs": [
    {
     "name": "stdout",
     "output_type": "stream",
     "text": [
      "Classification Report:\n",
      "\n",
      "              precision    recall  f1-score   support\n",
      "\n",
      "           0       1.00      1.00      1.00      1454\n",
      "           1       1.00      1.00      1.00      1251\n",
      "\n",
      "    accuracy                           1.00      2705\n",
      "   macro avg       1.00      1.00      1.00      2705\n",
      "weighted avg       1.00      1.00      1.00      2705\n",
      "\n",
      "Confusion Matrix:\n",
      "\n",
      "[[1453    1]\n",
      " [   0 1251]]\n"
     ]
    }
   ],
   "source": [
    "from sklearn.ensemble import RandomForestClassifier\n",
    "from sklearn.metrics import classification_report, confusion_matrix\n",
    "\n",
    "# Initialize and train the model\n",
    "rf_model = RandomForestClassifier(random_state=42)\n",
    "rf_model.fit(X_train, y_train)\n",
    "\n",
    "# Make predictions\n",
    "y_pred = rf_model.predict(X_test)\n",
    "\n",
    "# Evaluation report\n",
    "print(\"Classification Report:\\n\")\n",
    "print(classification_report(y_test, y_pred))\n",
    "\n",
    "# Confusion matrix\n",
    "print(\"Confusion Matrix:\\n\")\n",
    "print(confusion_matrix(y_test, y_pred))"
   ]
  },
  {
   "cell_type": "markdown",
   "id": "315b43fc",
   "metadata": {},
   "source": [
    "####  Baseline Model: Random Forest Classifier\n",
    "\n",
    "**Classification Report**\n",
    "\n",
    "| Metric      | Class 0 (Not At-Risk) | Class 1 (At-Risk) |\n",
    "|-------------|------------------------|--------------------|\n",
    "| Precision   | 1.00                   | 1.00               |\n",
    "| Recall      | 1.00                   | 1.00               |\n",
    "| F1-Score    | 1.00                   | 1.00               |\n",
    "| Accuracy    | **1.00 (100%)**        |                    |\n",
    "\n",
    "#### Confusion Matrix\n",
    "\n",
    "```\n",
    "[[1453    1]\n",
    " [   0 1251]]\n",
    "```\n",
    "\n",
    "**Key Insights:**\n",
    "\n",
    "- The model **correctly classified 2704 out of 2705** customers.\n",
    "- **Only 1 false positive** (predicted At-Risk when not).\n",
    "- No false negatives — meaning **every actual At-Risk customer was caught**.\n",
    "- Indicates RFM features are highly predictive for this segmentation.\n",
    "- While this may suggest model strength, such high scores may also warrant:\n",
    "  - Further validation (e.g., on holdout set)\n",
    "  - Checking for data leakage (although unlikely here)\n",
    "  - Cross-validation to ensure generalizability"
   ]
  },
  {
   "cell_type": "markdown",
   "id": "0b832523",
   "metadata": {},
   "source": [
    "---"
   ]
  },
  {
   "cell_type": "markdown",
   "id": "83a02918",
   "metadata": {},
   "source": [
    "#### 1d. Visualize Feature Importance\n",
    "\n",
    "**What this does:**\n",
    "- Extracts feature importance scores from the trained Random Forest model\n",
    "- Visualizes which RFM feature (Recency, Frequency, Monetary) contributed most to the churn prediction\n",
    "\n",
    "**Why this matters:**\n",
    "- Helps you understand model behavior and trust the results\n",
    "- Useful for communicating actionable insights to marketing teams\n",
    "\n",
    "**Expected Outcome:**\n",
    "- Higher importance for Recency (typically) in churn problems\n",
    "- Frequency and Monetary may also contribute depending on the segment dynamics"
   ]
  },
  {
   "cell_type": "code",
   "execution_count": 220,
   "id": "d5bd2c19",
   "metadata": {},
   "outputs": [
    {
     "data": {
      "image/png": "[encoded data removed]",
      "text/plain": [
       "<Figure size 800x500 with 1 Axes>"
      ]
     },
     "metadata": {},
     "output_type": "display_data"
    }
   ],
   "source": [
    "# Extract feature importances from trained model\n",
    "importances = rf_model.feature_importances_\n",
    "feature_names = X.columns\n",
    "\n",
    "# Create feature importance DataFrame\n",
    "feature_df = pd.DataFrame({\n",
    "    'Feature': feature_names,\n",
    "    'Importance': importances\n",
    "}).sort_values(by='Importance', ascending=False)\n",
    "\n",
    "# Plot feature importances\n",
    "plt.figure(figsize=(8, 5))\n",
    "sns.barplot(\n",
    "    data=feature_df,\n",
    "    x='Importance',\n",
    "    y='Feature',\n",
    "    hue='Feature',         \n",
    "    palette='viridis',\n",
    "    dodge=False,\n",
    "    legend=False\n",
    ")\n",
    "plt.title('Feature Importance for Churn Prediction')\n",
    "plt.xlabel('Importance Score')\n",
    "plt.ylabel('RFM Feature')\n",
    "plt.grid(True, axis='x', linestyle='--', alpha=0.6)\n",
    "plt.show()"
   ]
  },
  {
   "cell_type": "markdown",
   "id": "7a331fe5",
   "metadata": {},
   "source": [
    "#### Feature Importance — Random Forest Churn Model\n",
    "\n",
    "| Feature   | Importance Score | Interpretation                    |\n",
    "|-----------|------------------|------------------------------------|\n",
    "| Recency   | **~0.90+**       | Most important predictor — recent activity strongly influences churn risk |\n",
    "| Frequency | Low (~0.05)      | Minor contributor — past purchase frequency helps, but not decisive |\n",
    "| Monetary  | Lowest (~0.02)   | Spending value plays a small role in predicting churn\n",
    "\n",
    "**Key Insights:**\n",
    "\n",
    "- **Recency is by far the most influential factor** in predicting whether a customer is at risk.\n",
    "- This makes sense: customers who haven't transacted recently are more likely to churn.\n",
    "- **Frequency and Monetary** provide marginal benefit — they may add value in combination or with more advanced features (e.g., time decay, recency-weighted spending).\n",
    "\n",
    "This insight supports retention efforts focused on **recent re-engagement** — timing is everything in churn prevention."
   ]
  },
  {
   "cell_type": "markdown",
   "id": "1cecdca1",
   "metadata": {},
   "source": [
    "---"
   ]
  },
  {
   "cell_type": "markdown",
   "id": "76b32254",
   "metadata": {},
   "source": [
    "#### 1e. Cross-Validation Evaluation\n",
    "\n",
    "**What this does:**\n",
    "- Uses `cross_val_score` with 5-fold cross-validation on the training data\n",
    "- Evaluates the baseline model’s average **accuracy and variability**\n",
    "\n",
    "**Why this matters:**\n",
    "- A single train-test split might give overly optimistic results\n",
    "- Cross-validation ensures the model performs consistently across multiple splits"
   ]
  },
  {
   "cell_type": "code",
   "execution_count": 221,
   "id": "d9032365",
   "metadata": {},
   "outputs": [
    {
     "name": "stdout",
     "output_type": "stream",
     "text": [
      "Cross-validation scores: [0.99815157 1.         0.99861304 0.99907536 0.99907536]\n",
      "Mean Accuracy: 0.9990\n",
      "Standard Deviation: 0.0006\n"
     ]
    }
   ],
   "source": [
    "from sklearn.model_selection import cross_val_score\n",
    "import numpy as np\n",
    "\n",
    "# Perform 5-fold cross-validation on training data\n",
    "cv_scores = cross_val_score(rf_model, X_train, y_train, cv=5, scoring='accuracy')\n",
    "\n",
    "# Display results\n",
    "print(\"Cross-validation scores:\", cv_scores)\n",
    "print(\"Mean Accuracy: {:.4f}\".format(np.mean(cv_scores)))\n",
    "print(\"Standard Deviation: {:.4f}\".format(np.std(cv_scores)))"
   ]
  },
  {
   "cell_type": "markdown",
   "id": "309c02e9",
   "metadata": {},
   "source": [
    "#### Cross-Validation Results — Random Forest Classifier\n",
    "\n",
    "| Metric               | Value     |\n",
    "|----------------------|-----------|\n",
    "| Mean Accuracy        | **0.9990** |\n",
    "| Standard Deviation   | 0.0006    |\n",
    "| Individual Fold Scores | [0.9982, 1.0000, 0.9986, 0.9991, 0.9991] |\n",
    "\n",
    "**Key Insights:**\n",
    "\n",
    "- The Random Forest model performs **consistently across all folds**, with almost no variation in accuracy.\n",
    "- **Standard deviation of just 0.0006** confirms the model is not sensitive to different splits of the data.\n",
    "- This validates that your model is both **accurate and generalizable**, and not overfitting."
   ]
  },
  {
   "cell_type": "markdown",
   "id": "3ff2e93e",
   "metadata": {},
   "source": [
    "---"
   ]
  },
  {
   "cell_type": "markdown",
   "id": "7678fd8c",
   "metadata": {},
   "source": [
    "#### 1f. Compare with Logistic Regression\n",
    "\n",
    "**What this does:**\n",
    "- Trains a `LogisticRegression` model on the same RFM features\n",
    "- Predicts churn risk (`is_at_risk`) and compares evaluation metrics to Random Forest\n",
    "\n",
    "**Why this matters:**\n",
    "- Logistic Regression is a fast, interpretable model\n",
    "- Comparing multiple models ensures you choose the most reliable one for deployment"
   ]
  },
  {
   "cell_type": "code",
   "execution_count": 222,
   "id": "e36df539",
   "metadata": {},
   "outputs": [
    {
     "name": "stdout",
     "output_type": "stream",
     "text": [
      "Logistic Regression — Classification Report:\n",
      "\n",
      "              precision    recall  f1-score   support\n",
      "\n",
      "           0       0.99      0.99      0.99      1454\n",
      "           1       0.99      0.99      0.99      1251\n",
      "\n",
      "    accuracy                           0.99      2705\n",
      "   macro avg       0.99      0.99      0.99      2705\n",
      "weighted avg       0.99      0.99      0.99      2705\n",
      "\n",
      "Confusion Matrix:\n",
      "\n",
      "[[1438   16]\n",
      " [  16 1235]]\n"
     ]
    }
   ],
   "source": [
    "from sklearn.linear_model import LogisticRegression\n",
    "from sklearn.metrics import classification_report, confusion_matrix\n",
    "\n",
    "# Train Logistic Regression model\n",
    "lr_model = LogisticRegression(max_iter=1000, random_state=42)\n",
    "lr_model.fit(X_train, y_train)\n",
    "\n",
    "# Predict on test set\n",
    "y_pred_lr = lr_model.predict(X_test)\n",
    "\n",
    "# Evaluation\n",
    "print(\"Logistic Regression — Classification Report:\\n\")\n",
    "print(classification_report(y_test, y_pred_lr))\n",
    "\n",
    "print(\"Confusion Matrix:\\n\")\n",
    "print(confusion_matrix(y_test, y_pred_lr))"
   ]
  },
  {
   "cell_type": "markdown",
   "id": "eef8a9dc",
   "metadata": {},
   "source": [
    "#### Model Comparison — Logistic Regression vs. Random Forest\n",
    "\n",
    "##### Logistic Regression — Classification Report\n",
    "\n",
    "| Metric      | Class 0 (Not At-Risk) | Class 1 (At-Risk) |\n",
    "|-------------|------------------------|--------------------|\n",
    "| Precision   | 0.99                   | 0.99               |\n",
    "| Recall      | 0.99                   | 0.99               |\n",
    "| F1-Score    | 0.99                   | 0.99               |\n",
    "| Accuracy    | **0.99 (2705/2705)**   |                    |\n",
    "\n",
    "##### Confusion Matrix\n",
    "\n",
    "```\n",
    "[[1438   16]\n",
    " [  16 1235]]\n",
    "```\n",
    "\n",
    "**Key Insights:**\n",
    "\n",
    "- **Logistic Regression** achieves **99% accuracy**, with only **32 total misclassifications**.\n",
    "- It performs extremely well despite being simpler and linear — a good **fast fallback model**.\n",
    "- Compared to Random Forest:\n",
    "  - Slightly **less precise** (RF misclassified only 1 customer, Logistic misclassified 32)\n",
    "  - But easier to interpret, faster to train, and ideal when model simplicity is preferred.\n",
    "\n",
    "- If interpretability or training speed is key, Logistic Regression is a strong choice.  \n",
    "- If near-perfect prediction is required, Random Forest remains your best model so far."
   ]
  },
  {
   "cell_type": "markdown",
   "id": "62b659e9",
   "metadata": {},
   "source": [
    "---"
   ]
  },
  {
   "cell_type": "markdown",
   "id": "155a56a4",
   "metadata": {},
   "source": [
    "#### 1g. Compare with XGBoost Classifier\n",
    "\n",
    "**What this does:**\n",
    "- Trains an `XGBClassifier` on the same RFM features\n",
    "- Evaluates predictive power on churn risk (`is_at_risk`)\n",
    "- Compares results with Random Forest and Logistic Regression\n",
    "\n",
    "**Why this matters:**\n",
    "- XGBoost is often the go-to model for high-performance tabular data tasks\n",
    "- Helps ensure you’re not missing marginal gains from ensemble boosting"
   ]
  },
  {
   "cell_type": "code",
   "execution_count": 223,
   "id": "7d6c9404",
   "metadata": {},
   "outputs": [
    {
     "name": "stdout",
     "output_type": "stream",
     "text": [
      "XGBoost — Classification Report:\n",
      "\n",
      "              precision    recall  f1-score   support\n",
      "\n",
      "           0       1.00      1.00      1.00      1454\n",
      "           1       1.00      1.00      1.00      1251\n",
      "\n",
      "    accuracy                           1.00      2705\n",
      "   macro avg       1.00      1.00      1.00      2705\n",
      "weighted avg       1.00      1.00      1.00      2705\n",
      "\n",
      "Confusion Matrix:\n",
      "\n",
      "[[1454    0]\n",
      " [   1 1250]]\n"
     ]
    }
   ],
   "source": [
    "from xgboost import XGBClassifier\n",
    "from sklearn.metrics import classification_report, confusion_matrix\n",
    "\n",
    "# Initialize the model (without deprecated params)\n",
    "xgb_model = XGBClassifier(\n",
    "    eval_metric='logloss',\n",
    "    random_state=42\n",
    ")\n",
    "\n",
    "# Train the model\n",
    "xgb_model.fit(X_train, y_train)\n",
    "\n",
    "# Predict on the test set\n",
    "y_pred_xgb = xgb_model.predict(X_test)\n",
    "\n",
    "# Evaluate the model\n",
    "print(\"XGBoost — Classification Report:\\n\")\n",
    "print(classification_report(y_test, y_pred_xgb))\n",
    "\n",
    "print(\"Confusion Matrix:\\n\")\n",
    "print(confusion_matrix(y_test, y_pred_xgb))\n"
   ]
  },
  {
   "cell_type": "markdown",
   "id": "ce397429",
   "metadata": {},
   "source": [
    "#### Final XGBoost Results — Clean & Stable\n",
    "\n",
    "##### Classification Report\n",
    "\n",
    "| Metric      | Class 0 (Not At-Risk) | Class 1 (At-Risk) |\n",
    "|-------------|------------------------|--------------------|\n",
    "| Precision   | 1.00                   | 1.00               |\n",
    "| Recall      | 1.00                   | 1.00               |\n",
    "| F1-Score    | 1.00                   | 1.00               |\n",
    "| Accuracy    | **1.00 (2704/2705)**   |                    |\n",
    "\n",
    "##### Confusion Matrix\n",
    "\n",
    "```\n",
    "[[1454    0]\n",
    " [   1 1250]]\n",
    "```\n",
    "\n",
    "**Key Insights:**\n",
    "\n",
    "- XGBoost remains **our strongest model**, with only **1 misclassification**.\n",
    "- Achieves **perfect precision** for both classes — no false positives.\n",
    "- Recall is also near-perfect — **only one At-Risk customer missed**.\n",
    "- These results validate that **RFM features alone are highly predictive** for churn classification in this dataset.\n",
    "- Compared to Random Forest:\n",
    "  - XGBoost performs equally well or slightly better\n",
    "  - Offers more flexibility for tuning and future scalability\n",
    "\n",
    "- Best candidate for saving, deployment, and driving real-time churn-based personalization."
   ]
  },
  {
   "cell_type": "markdown",
   "id": "a7bd3141",
   "metadata": {},
   "source": [
    "---"
   ]
  },
  {
   "cell_type": "markdown",
   "id": "d7e0b835",
   "metadata": {},
   "source": [
    "### Final Model Recommendation\n",
    "After evaluating multiple models on the churn prediction task using RFM features, here’s a comparison:\n",
    "\n",
    "| Model               | Accuracy | Misclassifications | Notes                                         |\n",
    "|---------------------|----------|---------------------|-----------------------------------------------|\n",
    "| ✅ **XGBoost**      | 1.00     | 1                   | Best overall — high accuracy, robust, tunable |\n",
    "| ✅ Random Forest    | 1.00     | 1                   | Strong baseline — simple, interpretable       |\n",
    "| ⚠️ Logistic Regression | 0.99     | 32                  | Fast and interpretable but slightly less precise |\n",
    "\n",
    "**Recommendation:**\n",
    "\n",
    "- **Use XGBoost as the final model for deployment**:\n",
    "  - Best performance across all metrics\n",
    "  - Can handle future complexity and additional features\n",
    "  - Built-in regularization makes it robust to overfitting\n",
    "\n",
    "- **Keep Random Forest as a backup model**:\n",
    "  - Easy to retrain and tune\n",
    "  - Similar performance\n",
    "\n",
    "- **Logistic Regression can be used as a baseline model** for interpretability, prototyping, or business-friendly demos."
   ]
  },
  {
   "cell_type": "markdown",
   "id": "5eb1cc89",
   "metadata": {},
   "source": [
    "---"
   ]
  },
  {
   "cell_type": "markdown",
   "id": "e1af80d1",
   "metadata": {},
   "source": [
    "#### 1h. Save the Trained XGBoost Model\n",
    "\n",
    "**What this does:**\n",
    "- Saves the trained `xgb_model` to a `.joblib` file in the `outputs/models/` directory\n",
    "- Ensures the model can be reloaded later for inference or deployment\n",
    "\n",
    "**Why this matters:**\n",
    "- Separates training from prediction\n",
    "- Enables you to plug the model into personalization pipelines or dashboards"
   ]
  },
  {
   "cell_type": "code",
   "execution_count": 224,
   "id": "b64f4eaf",
   "metadata": {},
   "outputs": [
    {
     "name": "stdout",
     "output_type": "stream",
     "text": [
      "XGBoost model saved successfully.\n"
     ]
    }
   ],
   "source": [
    "import joblib\n",
    "import os\n",
    "\n",
    "# Create model output directory if it doesn't exist\n",
    "os.makedirs('../outputs/models/', exist_ok=True)\n",
    "\n",
    "# Save the model\n",
    "joblib.dump(xgb_model, '../outputs/models/xgb_churn_model.joblib')\n",
    "\n",
    "print(\"XGBoost model saved successfully.\")"
   ]
  },
  {
   "cell_type": "markdown",
   "id": "e6aad44e",
   "metadata": {},
   "source": [
    "---"
   ]
  }
 ],
 "metadata": {
  "kernelspec": {
   "display_name": "rfm-env",
   "language": "python",
   "name": "python3"
  },
  "language_info": {
   "codemirror_mode": {
    "name": "ipython",
    "version": 3
   },
   "file_extension": ".py",
   "mimetype": "text/x-python",
   "name": "python",
   "nbconvert_exporter": "python",
   "pygments_lexer": "ipython3",
   "version": "3.10.17"
  }
 },
 "nbformat": 4,
 "nbformat_minor": 5
}
