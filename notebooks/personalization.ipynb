{
 "cells": [
  {
   "cell_type": "markdown",
   "id": "71ea098a",
   "metadata": {},
   "source": [
    "## Phase 4: Personalization & Strategy Mapping\n",
    "\n",
    "###  Objective:\n",
    "Use churn predictions (`is_at_risk`) and customer segments to craft **targeted re-engagement and loyalty strategies**.\n",
    "\n",
    "###  Why this matters:\n",
    "- Not all customers need the same offer\n",
    "- Personalization improves conversion, retention, and marketing ROI\n",
    "\n",
    "###  What We'll Do:\n",
    "1. Reload the saved XGBoost model\n",
    "2. Generate churn predictions for the full customer base\n",
    "3. Define strategic actions per customer segment and risk\n",
    "4. Output a campaign-ready dataset for marketing execution\n"
   ]
  },
  {
   "cell_type": "markdown",
   "id": "fb23525c",
   "metadata": {},
   "source": [
    "---"
   ]
  },
  {
   "cell_type": "code",
   "execution_count": 96,
   "id": "75243a98",
   "metadata": {},
   "outputs": [],
   "source": [
    "import joblib\n",
    "import pandas as pd\n",
    "import sys\n",
    "import os\n",
    "import importlib.util"
   ]
  },
  {
   "cell_type": "markdown",
   "id": "713a3ad2",
   "metadata": {},
   "source": [
    "#### 1a. Reload Saved XGBoost Model & Predict Churn\n",
    "\n",
    "**What this does:**\n",
    "- Reloads the previously saved model from disk\n",
    "- Uses the model to predict churn risk (`is_at_risk`) for all customers\n",
    "\n",
    "**Why this matters:**\n",
    "- Enables us to personalize actions based on actual risk scores\n",
    "- Separates model training from prediction, making the pipeline modular"
   ]
  },
  {
   "cell_type": "code",
   "execution_count": 97,
   "id": "7a4740c4",
   "metadata": {},
   "outputs": [
    {
     "data": {
      "text/html": [
       "<div>\n",
       "<style scoped>\n",
       "    .dataframe tbody tr th:only-of-type {\n",
       "        vertical-align: middle;\n",
       "    }\n",
       "\n",
       "    .dataframe tbody tr th {\n",
       "        vertical-align: top;\n",
       "    }\n",
       "\n",
       "    .dataframe thead th {\n",
       "        text-align: right;\n",
       "    }\n",
       "</style>\n",
       "<table border=\"1\" class=\"dataframe\">\n",
       "  <thead>\n",
       "    <tr style=\"text-align: right;\">\n",
       "      <th></th>\n",
       "      <th>CustomerID</th>\n",
       "      <th>Segment</th>\n",
       "      <th>churn_prediction</th>\n",
       "    </tr>\n",
       "  </thead>\n",
       "  <tbody>\n",
       "    <tr>\n",
       "      <th>0</th>\n",
       "      <td>0</td>\n",
       "      <td>At-Risk</td>\n",
       "      <td>1</td>\n",
       "    </tr>\n",
       "    <tr>\n",
       "      <th>1</th>\n",
       "      <td>1</td>\n",
       "      <td>Recent Low-Spenders</td>\n",
       "      <td>0</td>\n",
       "    </tr>\n",
       "    <tr>\n",
       "      <th>2</th>\n",
       "      <td>2</td>\n",
       "      <td>At-Risk</td>\n",
       "      <td>1</td>\n",
       "    </tr>\n",
       "    <tr>\n",
       "      <th>3</th>\n",
       "      <td>3</td>\n",
       "      <td>Recent Low-Spenders</td>\n",
       "      <td>0</td>\n",
       "    </tr>\n",
       "    <tr>\n",
       "      <th>4</th>\n",
       "      <td>4</td>\n",
       "      <td>Loyal Customers</td>\n",
       "      <td>0</td>\n",
       "    </tr>\n",
       "  </tbody>\n",
       "</table>\n",
       "</div>"
      ],
      "text/plain": [
       "   CustomerID              Segment  churn_prediction\n",
       "0           0              At-Risk                 1\n",
       "1           1  Recent Low-Spenders                 0\n",
       "2           2              At-Risk                 1\n",
       "3           3  Recent Low-Spenders                 0\n",
       "4           4      Loyal Customers                 0"
      ]
     },
     "execution_count": 97,
     "metadata": {},
     "output_type": "execute_result"
    }
   ],
   "source": [
    "#  Load the final RFM dataset\n",
    "rfm = pd.read_csv('../data/processed/rfm_table.csv')\n",
    "\n",
    "#  Reload the saved XGBoost model\n",
    "xgb_model = joblib.load('../outputs/models/xgb_churn_model.joblib')\n",
    "\n",
    "#  Predict churn risk\n",
    "rfm['churn_prediction'] = xgb_model.predict(rfm[['Recency', 'Frequency', 'Monetary']])\n",
    "\n",
    "#  Preview results\n",
    "rfm[['CustomerID', 'Segment', 'churn_prediction']].head()"
   ]
  },
  {
   "cell_type": "markdown",
   "id": "40506c0f",
   "metadata": {},
   "source": [
    "#### Churn Prediction Sample — Strategy Mapping Foundation\n",
    "\n",
    "| CustomerID | Segment              | Churn Prediction |\n",
    "|------------|----------------------|------------------|\n",
    "| 0          | At-Risk              | 1 (Churn Likely) |\n",
    "| 1          | Recent Low-Spenders  | 0 (Safe)         |\n",
    "| 2          | At-Risk              | 1 (Churn Likely) |\n",
    "| 3          | Recent Low-Spenders  | 0 (Safe)         |\n",
    "| 4          | Loyal Customers      | 0 (Safe)         |\n",
    "\n",
    "**Key Insights:**\n",
    "\n",
    "- The `churn_prediction` column correctly aligns with the original segments:\n",
    "  - **At-Risk customers are flagged as 1** (likely to churn)\n",
    "  - **Recent Low-Spenders and Loyal Customers are flagged as 0** (not at risk)\n",
    "- This confirms that your model generalizes well and aligns with your clustering logic.\n",
    "- You can now personalize marketing strategies based on **both behavioral segment and churn risk**."
   ]
  },
  {
   "cell_type": "markdown",
   "id": "e3ff829b",
   "metadata": {},
   "source": [
    "---"
   ]
  },
  {
   "cell_type": "markdown",
   "id": "36d654e6",
   "metadata": {},
   "source": [
    "#### 1b. Map Personalized Marketing Strategies\n",
    "\n",
    "**What this does:**\n",
    "- Uses customer `Segment` and `churn_prediction` to define a new column: `marketing_action`\n",
    "- Personalizes campaigns based on customer behavior and churn risk\n",
    "\n",
    "**Why this matters:**\n",
    "- Helps you deliver highly relevant promotions\n",
    "- Maximizes campaign ROI by targeting the right customers with the right incentives\n",
    "\n",
    "**Examples of Strategies:**\n",
    "- **At-Risk + Churned → Win-back campaign**\n",
    "- **Loyal + Safe → Loyalty reward**\n",
    "- **Low-Spender + Churned → Discount or limited-time offer**"
   ]
  },
  {
   "cell_type": "code",
   "execution_count": 98,
   "id": "e34e3ac0",
   "metadata": {},
   "outputs": [
    {
     "name": "stdout",
     "output_type": "stream",
     "text": [
      "Looking for personalization.py in scripts/:\n",
      "False\n"
     ]
    }
   ],
   "source": [
    "import os\n",
    "\n",
    "print(\"Looking for personalization.py in scripts/:\")\n",
    "print(os.path.exists(os.path.abspath('./scripts/personalization.py')))"
   ]
  },
  {
   "cell_type": "code",
   "execution_count": 99,
   "id": "39ff844a",
   "metadata": {},
   "outputs": [
    {
     "data": {
      "text/html": [
       "<div>\n",
       "<style scoped>\n",
       "    .dataframe tbody tr th:only-of-type {\n",
       "        vertical-align: middle;\n",
       "    }\n",
       "\n",
       "    .dataframe tbody tr th {\n",
       "        vertical-align: top;\n",
       "    }\n",
       "\n",
       "    .dataframe thead th {\n",
       "        text-align: right;\n",
       "    }\n",
       "</style>\n",
       "<table border=\"1\" class=\"dataframe\">\n",
       "  <thead>\n",
       "    <tr style=\"text-align: right;\">\n",
       "      <th></th>\n",
       "      <th>CustomerID</th>\n",
       "      <th>Segment</th>\n",
       "      <th>churn_prediction</th>\n",
       "      <th>marketing_action</th>\n",
       "    </tr>\n",
       "  </thead>\n",
       "  <tbody>\n",
       "    <tr>\n",
       "      <th>0</th>\n",
       "      <td>0</td>\n",
       "      <td>At-Risk</td>\n",
       "      <td>1</td>\n",
       "      <td>Reactivation Email + Big Discount</td>\n",
       "    </tr>\n",
       "    <tr>\n",
       "      <th>1</th>\n",
       "      <td>1</td>\n",
       "      <td>Recent Low-Spenders</td>\n",
       "      <td>0</td>\n",
       "      <td>Upsell: Bundle Offer</td>\n",
       "    </tr>\n",
       "    <tr>\n",
       "      <th>2</th>\n",
       "      <td>2</td>\n",
       "      <td>At-Risk</td>\n",
       "      <td>1</td>\n",
       "      <td>Reactivation Email + Big Discount</td>\n",
       "    </tr>\n",
       "    <tr>\n",
       "      <th>3</th>\n",
       "      <td>3</td>\n",
       "      <td>Recent Low-Spenders</td>\n",
       "      <td>0</td>\n",
       "      <td>Upsell: Bundle Offer</td>\n",
       "    </tr>\n",
       "    <tr>\n",
       "      <th>4</th>\n",
       "      <td>4</td>\n",
       "      <td>Loyal Customers</td>\n",
       "      <td>0</td>\n",
       "      <td>Loyalty Bonus + Referral Code</td>\n",
       "    </tr>\n",
       "  </tbody>\n",
       "</table>\n",
       "</div>"
      ],
      "text/plain": [
       "   CustomerID              Segment  churn_prediction  \\\n",
       "0           0              At-Risk                 1   \n",
       "1           1  Recent Low-Spenders                 0   \n",
       "2           2              At-Risk                 1   \n",
       "3           3  Recent Low-Spenders                 0   \n",
       "4           4      Loyal Customers                 0   \n",
       "\n",
       "                    marketing_action  \n",
       "0  Reactivation Email + Big Discount  \n",
       "1               Upsell: Bundle Offer  \n",
       "2  Reactivation Email + Big Discount  \n",
       "3               Upsell: Bundle Offer  \n",
       "4      Loyalty Bonus + Referral Code  "
      ]
     },
     "execution_count": 99,
     "metadata": {},
     "output_type": "execute_result"
    }
   ],
   "source": [
    "personalization_path = os.path.abspath('../scripts/personalization.py')\n",
    "\n",
    "# Load module dynamically\n",
    "spec = importlib.util.spec_from_file_location(\"personalization\", personalization_path)\n",
    "personalization = importlib.util.module_from_spec(spec)\n",
    "sys.modules[\"personalization\"] = personalization\n",
    "spec.loader.exec_module(personalization)\n",
    "\n",
    "#  Assign the function\n",
    "assign_action = personalization.assign_action\n",
    "rfm['marketing_action'] = rfm.apply(assign_action, axis=1)\n",
    "rfm[['CustomerID', 'Segment', 'churn_prediction', 'marketing_action']].head()"
   ]
  },
  {
   "cell_type": "markdown",
   "id": "bec40c4e",
   "metadata": {},
   "source": [
    "#### Personalized Campaign Strategy Output — Sample\n",
    "\n",
    "| CustomerID | Segment              | Churn Prediction | Marketing Action                      |\n",
    "|------------|----------------------|------------------|---------------------------------------|\n",
    "| 0          | At-Risk              | 1 (Churn Likely) | Reactivation Email + Big Discount     |\n",
    "| 1          | Recent Low-Spenders  | 0 (Safe)         | Upsell: Bundle Offer                  |\n",
    "| 2          | At-Risk              | 1 (Churn Likely) | Reactivation Email + Big Discount     |\n",
    "| 3          | Recent Low-Spenders  | 0 (Safe)         | Upsell: Bundle Offer                  |\n",
    "| 4          | Loyal Customers      | 0 (Safe)         | Loyalty Bonus + Referral Code         |\n",
    "\n",
    "**Key Insights:**\n",
    "\n",
    "- Each customer now has a **targeted marketing action** tailored to their:\n",
    "  - **Behavioral segment** (RFM-based clustering)\n",
    "  - **Churn risk prediction** (from XGBoost)\n",
    "- This enables fully personalized retention, upsell, and loyalty campaigns\n",
    "- Makes your dataset **actionable for campaign execution or CRM integration**"
   ]
  },
  {
   "cell_type": "markdown",
   "id": "48d13b99",
   "metadata": {},
   "source": [
    "---"
   ]
  },
  {
   "cell_type": "markdown",
   "id": "6cdac805",
   "metadata": {},
   "source": [
    "#### 1c. Export Final Campaign Dataset\n",
    "\n",
    "**What this does:**\n",
    "- Saves the enriched RFM dataset (with churn predictions and marketing actions) to a CSV file\n",
    "- Makes the data ready for use in CRM systems, email marketing platforms, or dashboard tools\n",
    "\n",
    "**File Location:**\n",
    "- `outputs/reports/final_campaign_actions.csv`"
   ]
  },
  {
   "cell_type": "code",
   "execution_count": 100,
   "id": "8a41a3ca",
   "metadata": {},
   "outputs": [
    {
     "name": "stdout",
     "output_type": "stream",
     "text": [
      "File saved to: ../outputs/reports/final_campaign_actions.csv\n"
     ]
    }
   ],
   "source": [
    "os.makedirs('../outputs/reports', exist_ok=True)\n",
    "\n",
    "# Export your final RFM + predictions + actions\n",
    "rfm[['CustomerID', 'Segment', 'churn_prediction', 'marketing_action']].to_csv(\n",
    "    '../outputs/reports/final_campaign_actions.csv',\n",
    "    index=False\n",
    ")\n",
    "\n",
    "print(\"File saved to: ../outputs/reports/final_campaign_actions.csv\")\n"
   ]
  },
  {
   "cell_type": "markdown",
   "id": "fe4af976",
   "metadata": {},
   "source": [
    "#### Final Campaign Dataset Exported\n",
    "\n",
    "The personalized customer marketing plan has been exported successfully:\n",
    "\n",
    "**Location:** `outputs/reports/final_campaign_actions.csv`\n",
    "\n",
    "**What's Inside:**\n",
    "Each row in the CSV contains:\n",
    "\n",
    "- `CustomerID`: Unique customer ID\n",
    "- `Segment`: RFM-based behavior cluster\n",
    "- `churn_prediction`: Model-based churn risk (1 = likely to churn)\n",
    "- `marketing_action`: Personalized strategy for outreach\n",
    "\n",
    "**Strategic Value:**\n",
    "- This file is ready for **marketing teams, CRM integration**, or **automated email pipelines**\n",
    "- It reflects a complete, data-driven pipeline from raw transactions → segmentation → prediction → personalization"
   ]
  }
 ],
 "metadata": {
  "kernelspec": {
   "display_name": "rfm-env",
   "language": "python",
   "name": "python3"
  },
  "language_info": {
   "codemirror_mode": {
    "name": "ipython",
    "version": 3
   },
   "file_extension": ".py",
   "mimetype": "text/x-python",
   "name": "python",
   "nbconvert_exporter": "python",
   "pygments_lexer": "ipython3",
   "version": "3.10.17"
  }
 },
 "nbformat": 4,
 "nbformat_minor": 5
}
